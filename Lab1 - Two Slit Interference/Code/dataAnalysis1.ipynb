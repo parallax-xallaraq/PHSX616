{
 "cells": [
  {
   "cell_type": "code",
   "execution_count": 2,
   "metadata": {},
   "outputs": [],
   "source": [
    "# imports\n",
    "import numpy as np"
   ]
  },
  {
   "cell_type": "code",
   "execution_count": 3,
   "metadata": {},
   "outputs": [],
   "source": [
    "# store files names for all datasets\n",
    "filenames: dict[str,str] = {\n",
    "   'Laser 1s' : r'C:\\Users\\polar\\OneDrive - The University of Kansas\\PHSX 616\\Lab1 - Two Slit Interference\\Data\\2-Slit Interference Lab - Laser Single Slit-8_24_23.csv',\n",
    "   'Laser 2s' : r'C:\\Users\\polar\\OneDrive - The University of Kansas\\PHSX 616\\Lab1 - Two Slit Interference\\Data\\2-Slit Interference Lab - Laser Interference Pattern (fine)-8_24_23.csv',\n",
    "   'Bulb 2s'  : r'C:\\Users\\polar\\OneDrive - The University of Kansas\\PHSX 616\\Lab1 - Two Slit Interference\\Data\\2-Slit Interference Lab - Bulb Interference Pattern-8_31_23.csv'\n",
    "} # s == slit"
   ]
  },
  {
   "cell_type": "code",
   "execution_count": 4,
   "metadata": {},
   "outputs": [],
   "source": [
    "def UnpackTable(fname: str) -> dict[str,np.array]:\n",
    "    \"\"\"Get a table dictionary like {x: xdata, y: ydata} from a CSV file containing data\"\"\" \n",
    "    # get data from the csv file\n",
    "    arr = np.genfromtxt(fname, delimiter=\",\", dtype=str)\n",
    "    # separate column names and data arrays \n",
    "    cols = np.array(arr[0 ], dtype=str)\n",
    "    data = np.array(arr[1:], dtype=float).T # transpose to get x and y\n",
    "    # build dictionary to hold the table {x: xdata, y: ydata}\n",
    "    table = {}\n",
    "    for col, dat in zip(cols,data) : \n",
    "        table[col] = dat\n",
    "    return table"
   ]
  },
  {
   "cell_type": "code",
   "execution_count": 13,
   "metadata": {},
   "outputs": [
    {
     "name": "stdout",
     "output_type": "stream",
     "text": [
      "Laser 1s columns:\t ['Micrometer Position (mm)', 'Voltage (V)']\n",
      "Laser 2s columns:\t ['Micrometer Position (mm)', 'Voltage (V)']\n",
      "Bulb 2s columns:\t ['Micrometer Position (mm)', 'Counts/10s', 'Photon/S (Hz)']\n"
     ]
    }
   ],
   "source": [
    "tables = {}\n",
    "for experiment, file in filenames.items() :\n",
    "    # extract data from file \n",
    "    tables[experiment] = UnpackTable(file)\n",
    "    # print some helpful info \n",
    "    print(experiment, 'columns:\\t', list(tables[experiment].keys() ))"
   ]
  },
  {
   "cell_type": "code",
   "execution_count": null,
   "metadata": {},
   "outputs": [],
   "source": []
  }
 ],
 "metadata": {
  "kernelspec": {
   "display_name": "py3env",
   "language": "python",
   "name": "python3"
  },
  "language_info": {
   "codemirror_mode": {
    "name": "ipython",
    "version": 3
   },
   "file_extension": ".py",
   "mimetype": "text/x-python",
   "name": "python",
   "nbconvert_exporter": "python",
   "pygments_lexer": "ipython3",
   "version": "3.9.12"
  },
  "orig_nbformat": 4
 },
 "nbformat": 4,
 "nbformat_minor": 2
}
