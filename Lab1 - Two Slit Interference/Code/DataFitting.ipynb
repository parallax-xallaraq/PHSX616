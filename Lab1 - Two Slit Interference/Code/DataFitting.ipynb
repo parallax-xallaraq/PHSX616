{
 "cells": [
  {
   "cell_type": "code",
   "execution_count": 1,
   "metadata": {},
   "outputs": [],
   "source": [
    "# enviornment imports\n",
    "import numpy as np\n",
    "import matplotlib.pyplot as plt \n",
    "from matplotlib.ticker import (MultipleLocator, AutoMinorLocator)\n",
    "# local imports\n",
    "import Plotting as myplt"
   ]
  },
  {
   "cell_type": "code",
   "execution_count": 2,
   "metadata": {},
   "outputs": [],
   "source": [
    "# paths\n",
    "path_fig  = 'C:\\\\Users\\\\polar\\\\OneDrive - The University of Kansas\\\\PHSX 616\\\\GitHub\\\\PHSX616\\\\Lab1 - Two Slit Interference\\\\Figures\\\\'\n",
    "path_data = 'C:\\\\Users\\\\polar\\\\OneDrive - The University of Kansas\\\\PHSX 616\\\\GitHub\\\\PHSX616\\\\Lab1 - Two Slit Interference\\\\Data\\\\'"
   ]
  },
  {
   "cell_type": "markdown",
   "metadata": {},
   "source": [
    "# Data"
   ]
  },
  {
   "cell_type": "code",
   "execution_count": 3,
   "metadata": {},
   "outputs": [
    {
     "name": "stdout",
     "output_type": "stream",
     "text": [
      "Laser 1s columns:\t ['Micrometer Position (mm)', 'Voltage (V)']\n",
      "Laser 2s columns:\t ['Micrometer Position (mm)', 'Voltage (V)']\n",
      "Bulb 2s t1 columns:\t ['Micrometer Position (mm)', 'Counts/10s', 'Photon/S (Hz)']\n",
      "Bulb 2s t2 columns:\t ['Micrometer Position (mm)', 'counts/10s', 'Photon/S (Hz)']\n",
      "Bulb 2s t3 columns:\t ['Micrometer Position (mm)', 'counts/10s', 'Photon/S (Hz)']\n"
     ]
    }
   ],
   "source": [
    "# store files names for all datasets\n",
    "filenames: dict[str,str] = {\n",
    "   'Laser 1s'   : path_data + '2-Slit Interference Lab - Laser Single Slit-8_24_23.csv',\n",
    "   'Laser 2s'   : path_data + '2-Slit Interference Lab - Laser Interference Pattern (fine)-8_24_23.csv',\n",
    "   'Bulb 2s t1' : path_data + '2-Slit Interference Lab - Bulb Interference Pattern-8_31_23.csv',\n",
    "   'Bulb 2s t2' : path_data + '2-Slit Interference Lab - Bulb Interference Pattern 2.csv',\n",
    "   'Bulb 2s t3' : path_data + '2-Slit Interference Lab - Bulb Interference Pattern 3.csv'\n",
    "} # s==slit, t==trial\n",
    "\n",
    "def UnpackTable(fname: str) -> dict[str,np.array] :\n",
    "    \"\"\"Get a table dictionary like {x: xdata, y: ydata} from a CSV file containing data\"\"\" \n",
    "    # get data from the csv file\n",
    "    arr = np.genfromtxt(fname, delimiter=\",\", dtype=str)\n",
    "    # separate column names and data arrays \n",
    "    cols = np.array(arr[0 ], dtype=str)\n",
    "    data = np.array(arr[1:], dtype=float).T # transpose to get x and y\n",
    "    # build dictionary to hold the table {x: xdata, y: ydata}\n",
    "    table = {}\n",
    "    for col, dat in zip(cols,data) : \n",
    "        table[col] = dat\n",
    "    return table\n",
    "\n",
    "def UnpackAllTables(filenames: dict[str,str]) -> dict[str, dict[str, np.array]] : \n",
    "    \"\"\"Unpack all tables in the filenames dictionary.\"\"\"\n",
    "    tables: dict[str, dict[str, np.array]] = {}\n",
    "    for experiment, file in filenames.items() :\n",
    "        # extract data from file \n",
    "        tables[experiment] = UnpackTable(file)\n",
    "        # print some helpful info \n",
    "        print(experiment, 'columns:\\t', list(tables[experiment].keys() ))\n",
    "    return tables\n",
    "\n",
    "tables: dict[str, dict[str, np.array]] = UnpackAllTables(filenames)"
   ]
  },
  {
   "cell_type": "markdown",
   "metadata": {},
   "source": [
    "# Maxima and Minima"
   ]
  },
  {
   "cell_type": "code",
   "execution_count": null,
   "metadata": {},
   "outputs": [],
   "source": []
  }
 ],
 "metadata": {
  "kernelspec": {
   "display_name": "py3env",
   "language": "python",
   "name": "python3"
  },
  "language_info": {
   "codemirror_mode": {
    "name": "ipython",
    "version": 3
   },
   "file_extension": ".py",
   "mimetype": "text/x-python",
   "name": "python",
   "nbconvert_exporter": "python",
   "pygments_lexer": "ipython3",
   "version": "3.9.12"
  },
  "orig_nbformat": 4
 },
 "nbformat": 4,
 "nbformat_minor": 2
}
