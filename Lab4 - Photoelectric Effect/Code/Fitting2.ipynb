{
 "cells": [
  {
   "cell_type": "code",
   "execution_count": 1,
   "metadata": {},
   "outputs": [],
   "source": [
    "# enviornment imports\n",
    "import numpy as np\n",
    "import matplotlib.pyplot as plt \n",
    "from matplotlib.ticker import AutoMinorLocator\n",
    "import scipy.stats as stat\n",
    "# local imports\n",
    "import DataAndPlotting as my\n"
   ]
  },
  {
   "cell_type": "markdown",
   "metadata": {},
   "source": [
    "# Data"
   ]
  },
  {
   "cell_type": "code",
   "execution_count": 2,
   "metadata": {},
   "outputs": [
    {
     "name": "stdout",
     "output_type": "stream",
     "text": [
      "ap2 columns:\t ['VAK [V]', 'I_356 [1e-13 A]', 'I_405 [1e-13 A]', 'I_436 [1e-13 A]', 'I_546 [1e-13 A]', 'I_577 [1e-13 A]']\n",
      "ap4 columns:\t ['VAK [V]', 'I_356 [1e-13 A]', 'I_405 [1e-13 A]', 'I_436 [1e-13 A]', 'I_546 [1e-13 A]', 'I_577 [1e-13 A]']\n",
      "ap8 columns:\t ['VAK [V]', 'I_356 [1e-13 A]', 'I_405 [1e-13 A]', 'I_436 [1e-13 A]', 'I_546 [1e-13 A]', 'I_577 [1e-13 A]']\n"
     ]
    }
   ],
   "source": [
    "# store files names for all datasets\n",
    "filenames: dict[str,str] = {\n",
    "#    'ap2_t1'    : my.path_data + '1-ap2_t1.csv', \n",
    "#    'ap2_t2'    : my.path_data + '2-ap2_t2.csv', \n",
    "    'ap2' : my.path_data + '3-ap2_t0.csv',\n",
    "    'ap4' : my.path_data + '5-ap4_t0.csv',\n",
    "    'ap8' : my.path_data + '4-ap8_t0.csv'\n",
    "\n",
    "} # ap==aperture, t==trial\n",
    "\n",
    "tables: dict[str, dict[str, np.array]] = my.UnpackAllTables(filenames)"
   ]
  },
  {
   "cell_type": "code",
   "execution_count": 3,
   "metadata": {},
   "outputs": [],
   "source": [
    "# https://coolors.co/e800ae-a600ff-1e00ff-71e900-f1a100\n",
    "colorDict = {\n",
    "    '356 nm' : '#e800ae', # '#000000',\n",
    "    '405 nm' : '#a600ff', # '#8200c8',\n",
    "    '436 nm' : '#1e00ff', # '#1d00ff',\n",
    "    '546 nm' : '#71E900', # '#96ff00',\n",
    "    '577 nm' : '#F1A100', # '#f6ff00',\n",
    "}\n",
    "colors1 = list(colorDict.values())\n",
    "colors2 = [my.darken_color(c, 1.15) for c in colors1]\n",
    "colors3 = [my.darken_color(c, 1.15) for c in colors2]"
   ]
  },
  {
   "cell_type": "markdown",
   "metadata": {},
   "source": [
    "# Plot"
   ]
  },
  {
   "cell_type": "code",
   "execution_count": 4,
   "metadata": {},
   "outputs": [],
   "source": [
    "def my_ceil(a, precision=0):\n",
    "    return np.round(a + 0.5 * 10**(-precision), precision)\n",
    "\n",
    "def BuildEquationStr(slope, intercept, slopeErr, intErr, roundto=3, yEqn='y') : \n",
    "    equn = str(yEqn)+' = ('+str(round(slope,roundto))+'$\\pm$'+str(round(slopeErr,roundto))+')x' # y = (m+/-err)x\n",
    "    if(intercept > 0) : \n",
    "        equn += ' $+$ ('+str(my_ceil(intercept,roundto))+'$\\pm$'+str(my_ceil(intErr,roundto))+')' # y = (m+/-err)x + (b+/-err)\n",
    "    elif(intercept < 0) : \n",
    "        equn += ' $-$ ('+str(my_ceil(abs(intercept),roundto))+'$\\pm$'+str(my_ceil(intErr,roundto))+')' # y = (m+/-err)x - (b+/-err)\n",
    "    return equn\n",
    "\n",
    "def ymxb(x,slope,intercept):\n",
    "    return (slope*x + intercept)\n",
    "\n",
    "def AxDrawFit(ax,slope,intercept, c='k', xmin=10.0, xmax=40.0, label='') : \n",
    "    x = [xmin,xmax]\n",
    "    y = [ymxb(xmin,slope,intercept), ymxb(xmax,slope,intercept)]\n",
    "    if(label != '') : \n",
    "        ax.plot(x,y, c=c, linestyle='--', label=label)\n",
    "    else: \n",
    "        ax.plot(x,y, c=c, linestyle='--')\n",
    "    \n",
    "def LeastSquareFit(ax,x,y,eqnPos=(0.02,0.08),xmin=10.0,xmax=40.0, append='', pltEq=True, c='k', label=False) : \n",
    "    # least sequare fit\n",
    "    result = stat.linregress(x,y)\n",
    "    equn = BuildEquationStr(result.slope, result.intercept, result.stderr, result.intercept_stderr, yEqn='y'+str(append))\n",
    "    # build array of expected y\n",
    "    y_exp = []\n",
    "    for xi in x :\n",
    "        y_exp.append(ymxb(xi,result.slope,result.intercept))\n",
    "    # chi squared test\n",
    "    chi2, pvalue = stat.chisquare(f_obs=y,f_exp=y_exp)\n",
    "    chi2eqn = '$\\chi^2$'+str(append)+'='+str(round(chi2,2))\n",
    "    # add quation to plot \n",
    "    if(pltEq):\n",
    "        my.AxText(ax, equn,    eqnPos[0], eqnPos[1])\n",
    "        my.AxText(ax, chi2eqn, eqnPos[0], eqnPos[1]-0.05)\n",
    "    # draw fit line\n",
    "    lab = ''\n",
    "    if(label) : lab = str(equn) + ', ' + str(chi2eqn)\n",
    "    AxDrawFit(ax,result.slope,result.intercept,xmin=xmin, xmax=xmax, c=c, label=lab)\n",
    "    # print info \n",
    "    print(equn, ' , ', chi2eqn)\n",
    "    return(equn, chi2eqn)"
   ]
  },
  {
   "cell_type": "code",
   "execution_count": 5,
   "metadata": {},
   "outputs": [],
   "source": [
    "def Ax_PlotXmanyY(\n",
    "    ax,\n",
    "    x: list[np.array], # x axis data points\n",
    "    y: list[np.array], # y axis data points\n",
    "    yleg : list[str], # legend lables \n",
    "    c : list, # colors\n",
    "    vlines: list[float] = [], # plot vertical lines\n",
    "    xerr: float = 0,    # error on x axis\n",
    "    yerr: float = 0,    # error on y axis\n",
    "    xlab: str = '', # label on x axis \n",
    "    ylab: str = '', # label on y axis\n",
    "    linestyle = '-',   # style of xy curve line\n",
    "    xlim: list = None,  # x axis range \n",
    "    ylim: list = None,  # y axis range \n",
    "    logScale: bool = False,\n",
    "    legendLoc: str = 'upper left',\n",
    "    fit: bool = False,\n",
    "    eqnPos: tuple[float] = (0.55,0.08),\n",
    "    fileName: str = ''  # filename to save the figure as\n",
    ") : \n",
    "    \"\"\"Plotting function for x and y data arrays.\"\"\"\n",
    "    # formatting \n",
    "    my.SetStyle()\n",
    "    if(xlab != '')   : plt.xlabel(xlab)\n",
    "    if(ylab != '')   : plt.ylabel(ylab)\n",
    "    if(xlim != None) : plt.xlim(xlim)\n",
    "    if(ylim != None) : plt.ylim(ylim)\n",
    "    ax.xaxis.set_minor_locator(AutoMinorLocator(4))\n",
    "    ax.yaxis.set_minor_locator(AutoMinorLocator(4))\n",
    "    if(logScale) : ax.set_yscale('log')\n",
    "    for v in vlines : \n",
    "        ax.axvline(v, c='k',linewidth=0.8)\n",
    "\n",
    "    if(fit) : \n",
    "        # get lists of all points \n",
    "        xs = []\n",
    "        ys = []\n",
    "        for xi,yi in zip(x,y) : \n",
    "            xs.append(xi)\n",
    "            ys.append(yi)\n",
    "        # fit \n",
    "        LeastSquareFit(ax,xs,ys,xmin=min(xs)-100,xmax=max(xs)+100, eqnPos=eqnPos, c='k', label=False)\n",
    "\n",
    "    # data\n",
    "    for xi,yi,yl,ci in zip(x,y,yleg,c) : \n",
    "        ax.errorbar(xi, yi, yerr=yerr, xerr=xerr, elinewidth=1.5, c=ci, linestyle=linestyle, linewidth=0.5, label=yl)\n",
    "    if( yleg[0] != None) : ax.legend(loc=legendLoc)\n",
    "\n",
    "\n",
    "    # finish \n",
    "    if(fileName != '') : my.Save(fileName)\n",
    "    plt.show()"
   ]
  },
  {
   "cell_type": "markdown",
   "metadata": {},
   "source": [
    "## $V_{AK,0}$"
   ]
  },
  {
   "cell_type": "code",
   "execution_count": 6,
   "metadata": {},
   "outputs": [
    {
     "name": "stdout",
     "output_type": "stream",
     "text": [
      "[-2.0, -1.4, -1.2, -0.8, -0.6]\n",
      "[-2.4, -1.6, -1.6, -0.8, -0.6]\n",
      "[-2.8, -2.2, -1.8, -1.0, -0.8]\n"
     ]
    }
   ],
   "source": [
    "def GetV0(tables, experiment, xkey, ykey, jump=2) : \n",
    "    # callculate difference between points\n",
    "    diff = np.diff(tables[experiment][ykey])\n",
    "    # build boolean mask that is True where the differents beween points is greater than the jump threshold\n",
    "    mask = np.zeros(diff.shape, dtype=bool)\n",
    "    mask[diff > jump] = True\n",
    "    # apply mask, then pick 2nd item (which is the smallest X value)\n",
    "    return tables[experiment][xkey] [:-1] [mask] [1]\n",
    "\n",
    "def GetV0Set(tables, experiment) : \n",
    "    return [\n",
    "        GetV0(tables, experiment, 'VAK [V]', 'I_356 [1e-13 A]'),\n",
    "        GetV0(tables, experiment, 'VAK [V]', 'I_405 [1e-13 A]'),\n",
    "        GetV0(tables, experiment, 'VAK [V]', 'I_436 [1e-13 A]'),\n",
    "        GetV0(tables, experiment, 'VAK [V]', 'I_546 [1e-13 A]'),\n",
    "        GetV0(tables, experiment, 'VAK [V]', 'I_577 [1e-13 A]'),\n",
    "    ]\n",
    "\n",
    "v0_ap2 = GetV0Set(tables, 'ap2')\n",
    "v0_ap4 = GetV0Set(tables, 'ap4')\n",
    "v0_ap8 = GetV0Set(tables, 'ap8')\n",
    "print(v0_ap2)\n",
    "print(v0_ap4)\n",
    "print(v0_ap8)"
   ]
  },
  {
   "cell_type": "code",
   "execution_count": 8,
   "metadata": {},
   "outputs": [
    {
     "name": "stdout",
     "output_type": "stream",
     "text": [
      "y = (0.007$\\pm$0.001)x $-$ (4.842$\\pm$0.407)  ,  $\\chi^2$=-0.58\n"
     ]
    },
    {
     "data": {
      "image/png": "[encoded data removed]",
      "text/plain": [
       "<Figure size 900x600 with 1 Axes>"
      ]
     },
     "metadata": {
      "needs_background": "light"
     },
     "output_type": "display_data"
    }
   ],
   "source": [
    "# filters \n",
    "wavelengths = [356,405,436,546,577] # nm\n",
    "wavelengthsL = [x-2 for x in wavelengths] # offset for better visualization\n",
    "wavelengthsR = [x+2 for x in wavelengths] # offset for better visualization\n",
    "\n",
    "Ax_PlotXmanyY(\n",
    "    ax = plt.gca(),\n",
    "    x = wavelengthsL + wavelengths + wavelengthsR, \n",
    "    # x = wavelengths + wavelengths + wavelengths, \n",
    "    y = v0_ap8 + v0_ap4 + v0_ap2,\n",
    "    yleg = [ '356 nm', '405 nm', '436 nm', '546 nm', '577 nm',None,None,None,None,None,None,None,None,None,None, ],\n",
    "    c = colors1 + colors2 + colors3,\n",
    "    # vlines = [0],\n",
    "    xerr = 2,\n",
    "    yerr = 0.05,\n",
    "    xlab = '$\\lambda$ [nm]',\n",
    "    ylab = '$V_{AK,0}$ [V]',\n",
    "    linestyle = ':',\n",
    "    xlim = (325, 600),\n",
    "    ylim = (-3., -0.5),\n",
    "    fit=True,\n",
    "    eqnPos=(0.55,0.08),\n",
    "    # logScale = True,\n",
    "    fileName = my.path_fig + 'ap248_VAKmin.png'\n",
    ")"
   ]
  }
 ],
 "metadata": {
  "kernelspec": {
   "display_name": "py3env",
   "language": "python",
   "name": "python3"
  },
  "language_info": {
   "codemirror_mode": {
    "name": "ipython",
    "version": 3
   },
   "file_extension": ".py",
   "mimetype": "text/x-python",
   "name": "python",
   "nbconvert_exporter": "python",
   "pygments_lexer": "ipython3",
   "version": "3.9.12"
  }
 },
 "nbformat": 4,
 "nbformat_minor": 2
}
