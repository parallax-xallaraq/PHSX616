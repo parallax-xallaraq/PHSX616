{
 "cells": [
  {
   "cell_type": "code",
   "execution_count": 1,
   "metadata": {},
   "outputs": [],
   "source": [
    "# enviornment imports\n",
    "import numpy as np\n",
    "import matplotlib.pyplot as plt \n",
    "import matplotlib as mpl\n",
    "from matplotlib.ticker import AutoMinorLocator\n",
    "\n",
    "# paths\n",
    "path_fig  = 'C:\\\\Users\\\\polar\\\\OneDrive - The University of Kansas\\\\PHSX 616\\\\GitHub\\\\PHSX616\\\\Lab2 - X-ray Apparatus\\\\1 - Investigating the energy spectrum\\\\Figures\\\\'\n",
    "path_data = 'C:\\\\Users\\\\polar\\\\OneDrive - The University of Kansas\\\\PHSX 616\\\\GitHub\\\\PHSX616\\\\Lab2 - X-ray Apparatus\\\\1 - Investigating the energy spectrum\\\\Data\\\\'"
   ]
  },
  {
   "cell_type": "markdown",
   "metadata": {},
   "source": [
    "# Data"
   ]
  },
  {
   "cell_type": "code",
   "execution_count": 2,
   "metadata": {},
   "outputs": [],
   "source": [
    "# store files names for all datasets\n",
    "filenames: dict[str,str] = {\n",
    "   'I1mA t1'   : path_data + 'a-I1ma_trial1_table.csv', \n",
    "   'I1mA t2'   : path_data + 'a-I1ma_trial2_table.csv', \n",
    "} # t==trial"
   ]
  },
  {
   "cell_type": "code",
   "execution_count": 3,
   "metadata": {},
   "outputs": [
    {
     "name": "stdout",
     "output_type": "stream",
     "text": [
      "I1mA t1 columns:\t ['n&l / pm', 'R_1 / 1/s', 'R_2 / 1/s', 'R_3 / 1/s', 'R_4 / 1/s', 'R_5 / 1/s']\n",
      "I1mA t2 columns:\t ['n&l / pm', 'R_0 / 1/s', 'R_1 / 1/s', 'R_2 / 1/s', 'R_3 / 1/s', 'R_4 / 1/s']\n"
     ]
    }
   ],
   "source": [
    "def UnpackTable(fname: str) -> dict[str,np.array] :\n",
    "    \"\"\"Get a table dictionary like {x: xdata, y: ydata} from a CSV file containing data\"\"\" \n",
    "    # get data from the csv file\n",
    "    arr = np.genfromtxt(fname, delimiter=\",\", dtype=str)\n",
    "    # separate column names and data arrays \n",
    "    cols = np.array(arr[0 ], dtype=str)\n",
    "    data = np.array(arr[1:], dtype=float).T # transpose to get x and y\n",
    "    # build dictionary to hold the table {x: xdata, y: ydata}\n",
    "    table = {}\n",
    "    for col, dat in zip(cols,data) : \n",
    "        table[col] = dat\n",
    "    return table\n",
    "\n",
    "def UnpackAllTables(filenames: dict[str,str]) -> dict[str, dict[str, np.array]] : \n",
    "    \"\"\"Unpack all tables in the filenames dictionary.\"\"\"\n",
    "    tables: dict[str, dict[str, np.array]] = {}\n",
    "    for experiment, file in filenames.items() :\n",
    "        # extract data from file \n",
    "        tables[experiment] = UnpackTable(file)\n",
    "        # print some helpful info \n",
    "        print(experiment, 'columns:\\t', list(tables[experiment].keys() ))\n",
    "    return tables\n",
    "\n",
    "tables: dict[str, dict[str, np.array]] = UnpackAllTables(filenames)"
   ]
  }
 ],
 "metadata": {
  "kernelspec": {
   "display_name": "py3env",
   "language": "python",
   "name": "python3"
  },
  "language_info": {
   "codemirror_mode": {
    "name": "ipython",
    "version": 3
   },
   "file_extension": ".py",
   "mimetype": "text/x-python",
   "name": "python",
   "nbconvert_exporter": "python",
   "pygments_lexer": "ipython3",
   "version": "3.9.12"
  }
 },
 "nbformat": 4,
 "nbformat_minor": 2
}
