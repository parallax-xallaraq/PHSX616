{
 "cells": [
  {
   "cell_type": "code",
   "execution_count": 96,
   "metadata": {},
   "outputs": [],
   "source": [
    "# enviornment imports\n",
    "import numpy as np\n",
    "import matplotlib.pyplot as plt \n",
    "from matplotlib.ticker import AutoMinorLocator\n",
    "import scipy.signal as sig\n",
    "# local imports\n",
    "import DataAndPlotting as my\n",
    "# paths\n",
    "path_fig  = 'C:\\\\Users\\\\polar\\\\OneDrive - The University of Kansas\\\\PHSX 616\\\\GitHub\\\\PHSX616\\\\Lab2 - X-ray Apparatus\\\\1 - Investigating the energy spectrum\\\\Figures\\\\'\n",
    "path_data = 'C:\\\\Users\\\\polar\\\\OneDrive - The University of Kansas\\\\PHSX 616\\\\GitHub\\\\PHSX616\\\\Lab2 - X-ray Apparatus\\\\1 - Investigating the energy spectrum\\\\Data\\\\'"
   ]
  },
  {
   "cell_type": "markdown",
   "metadata": {},
   "source": [
    "# Data"
   ]
  },
  {
   "cell_type": "code",
   "execution_count": 2,
   "metadata": {},
   "outputs": [
    {
     "name": "stdout",
     "output_type": "stream",
     "text": [
      "I1mA t1 columns:\t ['n&l / pm', 'R_1 / 1/s', 'R_2 / 1/s', 'R_3 / 1/s', 'R_4 / 1/s', 'R_5 / 1/s']\n",
      "I1mA t2 columns:\t ['n&l / pm', 'R_0 / 1/s', 'R_1 / 1/s', 'R_2 / 1/s', 'R_3 / 1/s', 'R_4 / 1/s']\n",
      "U35kV t1 columns:\t ['n&l / pm', 'R_0 / 1/s', 'R_1 / 1/s', 'R_2 / 1/s', 'R_3 / 1/s']\n",
      "U35kV t2 columns:\t ['n&l / pm', 'R_0 / 1/s', 'R_1 / 1/s', 'R_2 / 1/s', 'R_3 / 1/s']\n"
     ]
    }
   ],
   "source": [
    "# store files names for all datasets\n",
    "filenames: dict[str,str] = {\n",
    "   'I1mA t1'   : path_data + 'a-I1ma_trial1_table.csv', \n",
    "   'I1mA t2'   : path_data + 'a-I1ma_trial2_table.csv', \n",
    "   'U35kV t1'  : path_data + 'b-U35kv_trial1.csv', \n",
    "   'U35kV t2'  : path_data + 'b-U35kv_trial2.csv', \n",
    "} # t==trial\n",
    "\n",
    "tables: dict[str, dict[str, np.array]] = my.UnpackAllTables(filenames)"
   ]
  },
  {
   "cell_type": "code",
   "execution_count": 3,
   "metadata": {},
   "outputs": [],
   "source": [
    "def PlotXmanyY_LineTest(\n",
    "    x: np.array, # x axis data points\n",
    "    y: list[np.array], # y axis data points\n",
    "    yleg : list[str], # legend lables \n",
    "    c : list, # colors\n",
    "    xLine : float = None,\n",
    "    yLine : float = None, \n",
    "    xerr: float = 0,    # error on x axis\n",
    "    yerr: float = 0,    # error on y axis\n",
    "    xlab: str = '', # label on x axis \n",
    "    ylab: str = '', # label on y axis\n",
    "    linestyle = '-',   # style of xy curve line\n",
    "    xlim: list = None,  # x axis range \n",
    "    ylim: list = None,  # y axis range \n",
    "    logScale: bool = False,\n",
    "    fileName: str = ''  # filename to save the figure as\n",
    ") : \n",
    "    \"\"\"Plotting function for x and y data arrays.\"\"\"\n",
    "    # formatting \n",
    "    my.SetStyle()\n",
    "    plt.xlabel(xlab)\n",
    "    plt.ylabel(ylab)\n",
    "    if(xlim != None) : plt.xlim(xlim)\n",
    "    if(ylim != None) : plt.ylim(ylim)\n",
    "    ax = plt.gca()\n",
    "    ax.xaxis.set_minor_locator(AutoMinorLocator(4))\n",
    "    ax.yaxis.set_minor_locator(AutoMinorLocator(4))\n",
    "    ax.grid()\n",
    "    if(logScale) : ax.set_yscale('log')\n",
    "    # data\n",
    "    for yi,yl,ci in zip(y,yleg,c) : \n",
    "        plt.errorbar(x, yi, yerr=yerr, xerr=xerr, elinewidth=0.8, c=ci, linestyle=linestyle, linewidth=0.5, label=yl)\n",
    "    # lines\n",
    "    if(xLine != None): plt.axvline(xLine, c = 'r')\n",
    "    if(yLine != None): plt.axhline(yLine, c = 'r')\n",
    "    # finish \n",
    "    plt.legend()\n",
    "    if(fileName != '') : my.Save(fileName)\n",
    "    plt.show()"
   ]
  },
  {
   "cell_type": "code",
   "execution_count": 45,
   "metadata": {},
   "outputs": [
    {
     "name": "stdout",
     "output_type": "stream",
     "text": [
      "Experiment keys: ['I1mA t1', 'I1mA t2', 'U35kV t1', 'U35kV t2']\n",
      "Sub keys~: ['n&l / pm', 'R_0 / 1/s', 'R_1 / 1/s', 'R_2 / 1/s', 'R_3 / 1/s']\n"
     ]
    }
   ],
   "source": [
    "print('Experiment keys:', list(tables.keys()))\n",
    "print('Sub keys~:', list(tables['U35kV t1'].keys()))"
   ]
  },
  {
   "cell_type": "markdown",
   "metadata": {},
   "source": [
    "# Min \n",
    "* What value of $n\\lambda$ does the X-ray data change from noise to the spectra?"
   ]
  },
  {
   "cell_type": "code",
   "execution_count": 88,
   "metadata": {},
   "outputs": [],
   "source": [
    "def funcTestMin(x, trial, experiment) : \n",
    "    # determune using i and experiment \n",
    "    yTableKey  = 'R_'+str(trial)+' / 1/s'\n",
    "    if('R_0 / 1/s' in tables['I1mA t1']) : ci = trial\n",
    "    else: ci = trial - 1\n",
    "    # test plot\n",
    "    PlotXmanyY_LineTest(\n",
    "        xLine = x, yLine = 0,\n",
    "        x = tables[experiment]['n&l / pm'], y = [tables[experiment][yTableKey]],\n",
    "        yleg = [experiment+': '+yTableKey], c = [my.color5[ci]], xlab ='$n\\lambda$ [pm]', ylab = '$R$ [Hz]',\n",
    "        xlim = (tables['I1mA t1']['n&l / pm'] [0], tables['I1mA t1']['n&l / pm'] [-1]),\n",
    "        xerr = 0.3, yerr = 1, logScale = True,\n",
    "    )"
   ]
  },
  {
   "cell_type": "code",
   "execution_count": 97,
   "metadata": {},
   "outputs": [],
   "source": [
    "# set these \n",
    "trial = 4\n",
    "experiment = 'I1mA t1' # ['I1mA t1', 'I1mA t2', 'U35kV t1', 'U35kV t2']\n",
    "\n",
    "# store values # be sure to copy these to box above \n",
    "# tables[experiment]['Min'] = {\n",
    "#     'R_0 / 1/s': 30.4,\n",
    "#     'R_1 / 1/s': 30.6, \n",
    "#     'R_2 / 1/s': 29.5, \n",
    "#     'R_3 / 1/s': 29.8, \n",
    "# } # x is +/- 0.2\n",
    "x = tables[experiment]['Min']['R_'+str(trial)+' / 1/s']\n",
    "\n",
    "# funcTestMin(x, trial, experiment)\n"
   ]
  },
  {
   "cell_type": "code",
   "execution_count": 147,
   "metadata": {},
   "outputs": [],
   "source": [
    "# found by eye using func above \n",
    "label = 'Min'\n",
    "tables['I1mA t1'][label] = {    'R_1 / 1/s': 55.0, \n",
    "                                'R_2 / 1/s': 43.2, \n",
    "                                'R_3 / 1/s': 35.5, \n",
    "                                'R_4 / 1/s': 30.4, \n",
    "                                'R_5 / 1/s': 75.6   } # x is +/- 0.2\n",
    "tables['I1mA t2'][label] = {    'R_0 / 1/s': 74.0,\n",
    "                                'R_1 / 1/s': 55.0, \n",
    "                                'R_2 / 1/s': 43.3, \n",
    "                                'R_3 / 1/s': 35.5, \n",
    "                                'R_4 / 1/s': 29.5,  } # x is +/- 0.2\n",
    "tables['U35kV t1'][label] = {   'R_0 / 1/s': 29.5,\n",
    "                                'R_1 / 1/s': 30.5, \n",
    "                                'R_2 / 1/s': 30.8, \n",
    "                                'R_3 / 1/s': 29.5,  } # x is +/- 0.2\n",
    "tables['U35kV t2'][label] = {   'R_0 / 1/s': 30.4,\n",
    "                                'R_1 / 1/s': 30.6, \n",
    "                                'R_2 / 1/s': 29.5, \n",
    "                                'R_3 / 1/s': 29.8,  } # x is +/- 0.2"
   ]
  },
  {
   "cell_type": "markdown",
   "metadata": {},
   "source": [
    "# Max\n",
    "* What value of $n\\lambda$ does the X-ray spectra from brehmstralung peak at? "
   ]
  },
  {
   "cell_type": "code",
   "execution_count": 177,
   "metadata": {},
   "outputs": [],
   "source": [
    "def FindMax(\n",
    "    x : np.array, \n",
    "    height : tuple[float] = None,\n",
    "    distance: int = 8,\n",
    "    test: bool = True\n",
    ") -> tuple[np.array]: \n",
    "    # find peaks/maxima \n",
    "    maxima, _ = sig.find_peaks(  x, distance=distance, height=height) # returns indices of peaks in `x` that satisfy all given conditions.\n",
    "    # mark max\n",
    "    if(test) : \n",
    "        plt.plot(x)\n",
    "        plt.axhline(height[0], c='k', linestyle='--')\n",
    "        plt.axhline(height[1], c='k', linestyle='--')\n",
    "        plt.plot(maxima, x[maxima], \"+\", c='orange')\n",
    "        plt.show()\n",
    "    return maxima\n",
    "\n",
    "def OneFindMaxToXY(i, xarr, yarr) :\n",
    "    return (xarr[i], yarr[i])\n",
    "\n",
    "def TestMax(trial,experiment,height) : \n",
    "    # test\n",
    "    yTableKey  = 'R_'+str(trial)+' / 1/s'\n",
    "    x = tables[experiment][yTableKey]\n",
    "    brehmMax = FindMax(x, height=height) [0]\n",
    "    xy = OneFindMaxToXY(brehmMax, xarr = tables[experiment]['n&l / pm'], yarr = tables[experiment][yTableKey])\n",
    "    return xy"
   ]
  },
  {
   "cell_type": "code",
   "execution_count": 210,
   "metadata": {},
   "outputs": [
    {
     "data": {
      "image/png": "[encoded data removed]",
      "text/plain": [
       "<Figure size 900x600 with 1 Axes>"
      ]
     },
     "metadata": {
      "needs_background": "light"
     },
     "output_type": "display_data"
    },
    {
     "name": "stdout",
     "output_type": "stream",
     "text": [
      "(47.2, 984.0)\n"
     ]
    }
   ],
   "source": [
    "# set these \n",
    "trial = 3\n",
    "experiment = 'U35kV t2' # ['I1mA t1', 'I1mA t2', 'U35kV t1', 'U35kV t2']\n",
    "height = (820, 1100) # adjust (x,y) range until you get one value \n",
    "# test\n",
    "xy = TestMax(trial,experiment,height)\n",
    "print(xy) # copy this into table below "
   ]
  },
  {
   "cell_type": "code",
   "execution_count": 211,
   "metadata": {},
   "outputs": [],
   "source": [
    "# found using func above \n",
    "label = 'Max'\n",
    "tables['I1mA t1'][label] = {    'R_1 / 1/s': (69.7, 180.6), # (x,y)\n",
    "                                'R_2 / 1/s': (55.0, 349.5), \n",
    "                                'R_3 / 1/s': (52.1, 611.0), \n",
    "                                'R_4 / 1/s': (47.2, 956.8), \n",
    "                                'R_5 / 1/s': (88.2, 30.1)   }\n",
    "tables['I1mA t2'][label] = {    'R_0 / 1/s': (82.4, 37.2),\n",
    "                                'R_1 / 1/s': (70.7, 195.5), \n",
    "                                'R_2 / 1/s': (56.0, 351.0), \n",
    "                                'R_3 / 1/s': (51.1, 666.3), \n",
    "                                'R_4 / 1/s': (47.2, 919.4),  }\n",
    "tables['U35kV t1'][label] = {   'R_0 / 1/s': (48.2, 540.2),\n",
    "                                'R_1 / 1/s': (45.2, 682.9), \n",
    "                                'R_2 / 1/s': (47.2, 824.0), \n",
    "                                'R_3 / 1/s': (47.2, 976.7),  }\n",
    "tables['U35kV t2'][label] = {   'R_0 / 1/s': (47.2, 473.8),\n",
    "                                'R_1 / 1/s': (47.2, 631.5), \n",
    "                                'R_2 / 1/s': (47.2, 819.2), \n",
    "                                'R_3 / 1/s': (47.2, 984.0),  } "
   ]
  },
  {
   "cell_type": "markdown",
   "metadata": {},
   "source": [
    "# Emission lines\n",
    "* What is the $n\\lambda$ of the two emission lines? What is their FWHM?"
   ]
  },
  {
   "cell_type": "code",
   "execution_count": 218,
   "metadata": {},
   "outputs": [],
   "source": [
    "def TestEmission(trial,experiment,height) : \n",
    "    # test\n",
    "    yTableKey  = 'R_'+str(trial)+' / 1/s'\n",
    "    x = tables[experiment][yTableKey]\n",
    "    emission = FindMax(x, height=height)\n",
    "    if(len(emission) == 2 ) : \n",
    "        xy1 = OneFindMaxToXY(emission[0], xarr = tables[experiment]['n&l / pm'], yarr = tables[experiment][yTableKey])\n",
    "        xy2 = OneFindMaxToXY(emission[1], xarr = tables[experiment]['n&l / pm'], yarr = tables[experiment][yTableKey])\n",
    "        return xy1, xy2\n",
    "    else:\n",
    "        return None, None"
   ]
  },
  {
   "cell_type": "code",
   "execution_count": 262,
   "metadata": {},
   "outputs": [
    {
     "data": {
      "image/png": "[encoded data removed]",
      "text/plain": [
       "<Figure size 900x600 with 1 Axes>"
      ]
     },
     "metadata": {
      "needs_background": "light"
     },
     "output_type": "display_data"
    },
    {
     "name": "stdout",
     "output_type": "stream",
     "text": [
      "==== U35kV t2: R_3 / 1/s ====\n",
      "Line 1: (61.9, 1593.6)\n",
      "Line 2: (69.7, 3095.2)\n"
     ]
    }
   ],
   "source": [
    "# set these \n",
    "trial = 3\n",
    "experiment = 'U35kV t2' # ['I1mA t1', 'I1mA t2', 'U35kV t1', 'U35kV t2']\n",
    "height = (1200, 3500) # adjust (x,y) range until you get one value \n",
    "# test\n",
    "xy1, xy2 = TestEmission(trial,experiment,height)\n",
    "print('==== '+experiment+': R_'+str(trial)+' / 1/s ====')\n",
    "print('Line 1:', xy1) # copy this into table below \n",
    "print('Line 2:', xy2) # copy this into table below "
   ]
  },
  {
   "cell_type": "code",
   "execution_count": 148,
   "metadata": {},
   "outputs": [],
   "source": [
    "# found by eye using func above \n",
    "label = 'line1'\n",
    "tables['I1mA t1'][label] = {    'R_1 / 1/s': (None, None), # no lines!\n",
    "                                'R_2 / 1/s': (61.9, 569.5), \n",
    "                                'R_3 / 1/s': (61.9, 1076.6), \n",
    "                                'R_4 / 1/s': (61.9, 1588.1), \n",
    "                                'R_5 / 1/s': (None, None)   }\n",
    "tables['I1mA t2'][label] = {    'R_0 / 1/s': (None, None),\n",
    "                                'R_1 / 1/s': (None, None), \n",
    "                                'R_2 / 1/s': (61.9, 577.1), \n",
    "                                'R_3 / 1/s': (61.9, 1118.9), \n",
    "                                'R_4 / 1/s': (61.9, 1555.4),  }\n",
    "tables['U35kV t1'][label] = {   'R_0 / 1/s': (61.9, 955.8),\n",
    "                                'R_1 / 1/s': (61.9, 1204.0), \n",
    "                                'R_2 / 1/s': (61.9, 1442.1), \n",
    "                                'R_3 / 1/s': (61.9, 1643.0),  }\n",
    "tables['U35kV t2'][label] = {   'R_0 / 1/s': (61.9, 846.9),\n",
    "                                'R_1 / 1/s': (61.9, 1091.5), \n",
    "                                'R_2 / 1/s': (61.9, 1360.1), \n",
    "                                'R_3 / 1/s': (61.9, 1593.6),  } "
   ]
  },
  {
   "cell_type": "code",
   "execution_count": 263,
   "metadata": {},
   "outputs": [],
   "source": [
    "# found by eye using func above \n",
    "label = 'line2'\n",
    "tables['I1mA t1'][label] = {    'R_1 / 1/s': (None, None), # no lines!\n",
    "                                'R_2 / 1/s': (69.7, 1047.4), \n",
    "                                'R_3 / 1/s': (69.7, 2058.2), \n",
    "                                'R_4 / 1/s': (69.7, 3052.0), \n",
    "                                'R_5 / 1/s': (None, None)   }\n",
    "tables['I1mA t2'][label] = {    'R_0 / 1/s': (None, None),\n",
    "                                'R_1 / 1/s': (None, None), \n",
    "                                'R_2 / 1/s': (69.7, 1040.0), \n",
    "                                'R_3 / 1/s': (69.7, 2120.9), \n",
    "                                'R_4 / 1/s': (69.7, 3011.4),  }\n",
    "tables['U35kV t1'][label] = {   'R_0 / 1/s': (69.7, 2047.9),\n",
    "                                'R_1 / 1/s': (69.7, 2458.6), \n",
    "                                'R_2 / 1/s': (69.7, 2865.1), \n",
    "                                'R_3 / 1/s': (69.7, 3200.9),  }\n",
    "tables['U35kV t2'][label] = {   'R_0 / 1/s': (69.7, 1785.0),\n",
    "                                'R_1 / 1/s': (69.7, 2253.0), \n",
    "                                'R_2 / 1/s': (69.7, 2674.1), \n",
    "                                'R_3 / 1/s': (69.7, 3095.2),  } "
   ]
  },
  {
   "cell_type": "markdown",
   "metadata": {},
   "source": [
    "# Scatter\n",
    "* Plot paramaters against each other and try to find correlations. \n",
    "* to $\\chi^2$ test"
   ]
  }
 ],
 "metadata": {
  "kernelspec": {
   "display_name": "py3env",
   "language": "python",
   "name": "python3"
  },
  "language_info": {
   "codemirror_mode": {
    "name": "ipython",
    "version": 3
   },
   "file_extension": ".py",
   "mimetype": "text/x-python",
   "name": "python",
   "nbconvert_exporter": "python",
   "pygments_lexer": "ipython3",
   "version": "3.9.12"
  }
 },
 "nbformat": 4,
 "nbformat_minor": 2
}
